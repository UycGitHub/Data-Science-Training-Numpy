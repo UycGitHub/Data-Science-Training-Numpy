{
  "nbformat": 4,
  "nbformat_minor": 0,
  "metadata": {
    "colab": {
      "provenance": []
    },
    "kernelspec": {
      "name": "python3",
      "display_name": "Python 3"
    },
    "language_info": {
      "name": "python"
    }
  },
  "cells": [
    {
      "cell_type": "code",
      "execution_count": 5,
      "metadata": {
        "id": "HNGKDEWyDSR1"
      },
      "outputs": [],
      "source": [
        "import numpy as np"
      ]
    },
    {
      "cell_type": "code",
      "source": [
        "#first of we use lists example\n",
        "a = [1,2,3,4,5]\n",
        "b = [6,7,8,9,0]"
      ],
      "metadata": {
        "id": "-ALK28-yEV4N"
      },
      "execution_count": 6,
      "outputs": []
    },
    {
      "cell_type": "code",
      "source": [
        "list = list()"
      ],
      "metadata": {
        "id": "sQp6S6alE8AR"
      },
      "execution_count": 3,
      "outputs": []
    },
    {
      "cell_type": "code",
      "source": [
        "for i in range(len(a)):\n",
        "  list.append(a[i]*b[i])\n",
        "print(list)"
      ],
      "metadata": {
        "colab": {
          "base_uri": "https://localhost:8080/"
        },
        "id": "bKkP6xSiFGSs",
        "outputId": "f986ef25-b67f-4fe2-ea3a-4546f26e1b41"
      },
      "execution_count": 4,
      "outputs": [
        {
          "output_type": "stream",
          "name": "stdout",
          "text": [
            "[6, 14, 24, 36, 0]\n"
          ]
        }
      ]
    },
    {
      "cell_type": "code",
      "source": [
        "#if we want use numpy\n",
        "a=np.array([1,2,3,4,5])\n",
        "b=np.array([6,7,8,9,0])\n",
        "a*b #we do not need a for loop"
      ],
      "metadata": {
        "colab": {
          "base_uri": "https://localhost:8080/"
        },
        "id": "3OFg7W1iF-Fl",
        "outputId": "1bc0dd6a-5970-452c-fd08-1a2f1aca0c99"
      },
      "execution_count": 8,
      "outputs": [
        {
          "output_type": "execute_result",
          "data": {
            "text/plain": [
              "array([ 6, 14, 24, 36,  0])"
            ]
          },
          "metadata": {},
          "execution_count": 8
        }
      ]
    },
    {
      "cell_type": "code",
      "source": [],
      "metadata": {
        "id": "b8X0haR9Hu8J"
      },
      "execution_count": null,
      "outputs": []
    }
  ]
}
