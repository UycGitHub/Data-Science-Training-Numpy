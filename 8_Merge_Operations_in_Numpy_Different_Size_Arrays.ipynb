{
  "nbformat": 4,
  "nbformat_minor": 0,
  "metadata": {
    "colab": {
      "provenance": []
    },
    "kernelspec": {
      "name": "python3",
      "display_name": "Python 3"
    },
    "language_info": {
      "name": "python"
    }
  },
  "cells": [
    {
      "cell_type": "code",
      "execution_count": 8,
      "metadata": {
        "id": "eiEIYkPZnJ7Z"
      },
      "outputs": [],
      "source": [
        "import numpy as np"
      ]
    },
    {
      "cell_type": "code",
      "source": [
        "x= np.array(([1, 2, 3], [4, 5, 6]))\n",
        "y=np.array(([7, 8, 9]))\n",
        "print(x)\n",
        "print(y)"
      ],
      "metadata": {
        "colab": {
          "base_uri": "https://localhost:8080/"
        },
        "id": "q98bowFWndes",
        "outputId": "bd59b71f-21bb-4c45-bb95-42aa87423d1c"
      },
      "execution_count": 9,
      "outputs": [
        {
          "output_type": "stream",
          "name": "stdout",
          "text": [
            "[[1 2 3]\n",
            " [4 5 6]]\n",
            "[7 8 9]\n"
          ]
        }
      ]
    },
    {
      "cell_type": "code",
      "source": [
        "np.vstack([x, y]) # vstack --> vertical merge function different size arrays"
      ],
      "metadata": {
        "colab": {
          "base_uri": "https://localhost:8080/"
        },
        "id": "BMjFoESrpPIT",
        "outputId": "e04743c4-d132-4323-8690-bb48c6f6cdfa"
      },
      "execution_count": 10,
      "outputs": [
        {
          "output_type": "execute_result",
          "data": {
            "text/plain": [
              "array([[1, 2, 3],\n",
              "       [4, 5, 6],\n",
              "       [7, 8, 9]])"
            ]
          },
          "metadata": {},
          "execution_count": 10
        }
      ]
    },
    {
      "cell_type": "code",
      "source": [
        "a=np.array(([1, 1, 1], [1, 1, 1]))\n",
        "b=np.array(([1, 1], [1, 1]))\n",
        "#np.vstack([a,b]) #value error because it has empty fields in vertical merge\n",
        "\n",
        "\"\"\"\n",
        "#np.vstack([a,b]) #value An error occurred because there were empty spaces in the vertical join.\n",
        "In such cases, the hstack function is used instead of vstack.\n",
        "The hstack function prevents empty spaces and errors by joining horizontally when arrays of the same size have different number of elements.\n",
        "\"\"\"\n",
        "np.hstack([a,b])"
      ],
      "metadata": {
        "colab": {
          "base_uri": "https://localhost:8080/"
        },
        "id": "9NIAvs2-qFE6",
        "outputId": "91908aaa-5a65-45a6-98d8-fb5615259476"
      },
      "execution_count": 11,
      "outputs": [
        {
          "output_type": "execute_result",
          "data": {
            "text/plain": [
              "array([[1, 1, 1, 1, 1],\n",
              "       [1, 1, 1, 1, 1]])"
            ]
          },
          "metadata": {},
          "execution_count": 11
        }
      ]
    }
  ]
}