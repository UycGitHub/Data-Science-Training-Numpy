{
  "nbformat": 4,
  "nbformat_minor": 0,
  "metadata": {
    "colab": {
      "provenance": []
    },
    "kernelspec": {
      "name": "python3",
      "display_name": "Python 3"
    },
    "language_info": {
      "name": "python"
    }
  },
  "cells": [
    {
      "cell_type": "code",
      "execution_count": 1,
      "metadata": {
        "id": "SEpqpUEu4-03"
      },
      "outputs": [],
      "source": [
        "import numpy as np\n"
      ]
    },
    {
      "cell_type": "code",
      "source": [
        "##Let's specify the type of the numpy array with the type function. Because there are no arrays in core python.\n",
        "a = np.array([1,3,5,7,9])\n",
        "type(a)"
      ],
      "metadata": {
        "colab": {
          "base_uri": "https://localhost:8080/"
        },
        "id": "mLyOjjis1kdf",
        "outputId": "d492cf5f-199b-4cca-b665-f393f4d00c5f"
      },
      "execution_count": 2,
      "outputs": [
        {
          "output_type": "execute_result",
          "data": {
            "text/plain": [
              "numpy.ndarray"
            ]
          },
          "metadata": {},
          "execution_count": 2
        }
      ]
    },
    {
      "cell_type": "code",
      "source": [
        "#So how can we convert a list, tupble to a numpy array?\n",
        "list1 = [0,2,4,6,8]\n",
        "tuple1 = (17,43,26,41,34)\n",
        "numpyArrayFromList = np.array(list1)\n",
        "numpyArrayFromTuple = np.array(tuple1)\n",
        "type(numpyArrayFromList)\n",
        "type(numpyArrayFromTuple)"
      ],
      "metadata": {
        "colab": {
          "base_uri": "https://localhost:8080/"
        },
        "id": "HcxYAZVO17Qz",
        "outputId": "7c4596a3-aa94-4f0f-adaa-a1bbf98b9111"
      },
      "execution_count": 6,
      "outputs": [
        {
          "output_type": "execute_result",
          "data": {
            "text/plain": [
              "numpy.ndarray"
            ]
          },
          "metadata": {},
          "execution_count": 6
        }
      ]
    },
    {
      "cell_type": "code",
      "source": [
        "#Let's say that only one of the elements of our numpy array is of type float. The others are of type int.\n",
        "b = np.array([1,2,3,4,5,6.8])\n",
        "for i in b:\n",
        "  print(type(i))\n",
        "  #It also converted the int type to float type because all the elements in the numpy array must be of the same type. This is a feature of the numpy array structure."
      ],
      "metadata": {
        "colab": {
          "base_uri": "https://localhost:8080/"
        },
        "id": "Vv2fsOXX7dft",
        "outputId": "77e9f46a-5588-4700-bc0c-3c626f42a4ac"
      },
      "execution_count": 8,
      "outputs": [
        {
          "output_type": "stream",
          "name": "stdout",
          "text": [
            "<class 'numpy.float64'>\n",
            "<class 'numpy.float64'>\n",
            "<class 'numpy.float64'>\n",
            "<class 'numpy.float64'>\n",
            "<class 'numpy.float64'>\n",
            "<class 'numpy.float64'>\n"
          ]
        }
      ]
    },
    {
      "cell_type": "code",
      "source": [
        "#However, if we pass a data type that we specify to the dtype parameter as an argument, the data in the array will be kept in that type.\n",
        "c = np.array([1,2,3,4,5.2], dtype=np.int32)\n",
        "for i in c:\n",
        "  print(type(i))"
      ],
      "metadata": {
        "colab": {
          "base_uri": "https://localhost:8080/"
        },
        "id": "To9mWa8SGhng",
        "outputId": "20bd360d-4b8f-44ad-eff5-f3447efc2e8b"
      },
      "execution_count": 11,
      "outputs": [
        {
          "output_type": "stream",
          "name": "stdout",
          "text": [
            "<class 'numpy.int32'>\n",
            "<class 'numpy.int32'>\n",
            "<class 'numpy.int32'>\n",
            "<class 'numpy.int32'>\n",
            "<class 'numpy.int32'>\n"
          ]
        }
      ]
    },
    {
      "cell_type": "code",
      "source": [
        "#Let's show a few of the frequently used function provided by the numpy library:\n",
        "#For our matrix generation needs etc.\n",
        "print(np.zeros(10,dtype=\"int8\"))\n",
        "print(np.ones(12) * 6)\n",
        "print(np.full(14,7))"
      ],
      "metadata": {
        "colab": {
          "base_uri": "https://localhost:8080/"
        },
        "id": "FzIPDopOHK8K",
        "outputId": "6c67d060-fbf3-4a0a-97bb-3dbf34f62616"
      },
      "execution_count": 16,
      "outputs": [
        {
          "output_type": "stream",
          "name": "stdout",
          "text": [
            "[0 0 0 0 0 0 0 0 0 0]\n",
            "[6. 6. 6. 6. 6. 6. 6. 6. 6. 6. 6. 6.]\n",
            "[7 7 7 7 7 7 7 7 7 7 7 7 7 7]\n"
          ]
        }
      ]
    },
    {
      "cell_type": "code",
      "source": [],
      "metadata": {
        "id": "6EbjwuroJHDb"
      },
      "execution_count": null,
      "outputs": []
    }
  ]
}