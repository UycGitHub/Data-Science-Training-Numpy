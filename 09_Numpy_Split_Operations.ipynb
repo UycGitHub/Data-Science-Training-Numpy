{
  "nbformat": 4,
  "nbformat_minor": 0,
  "metadata": {
    "colab": {
      "provenance": []
    },
    "kernelspec": {
      "name": "python3",
      "display_name": "Python 3"
    },
    "language_info": {
      "name": "python"
    }
  },
  "cells": [
    {
      "cell_type": "code",
      "execution_count": 1,
      "metadata": {
        "id": "Az9DFfltzzmJ"
      },
      "outputs": [],
      "source": [
        "import numpy as np"
      ]
    },
    {
      "cell_type": "code",
      "source": [
        "a=np.random.randint(1,20,12)\n",
        "a"
      ],
      "metadata": {
        "colab": {
          "base_uri": "https://localhost:8080/"
        },
        "id": "3fWJ1pgrz2lk",
        "outputId": "eb3e6830-a04f-4b41-fee3-3fb6572f14c2"
      },
      "execution_count": 3,
      "outputs": [
        {
          "output_type": "execute_result",
          "data": {
            "text/plain": [
              "array([17, 18,  3, 14,  2,  3, 18,  5, 17,  4, 11, 12])"
            ]
          },
          "metadata": {},
          "execution_count": 3
        }
      ]
    },
    {
      "cell_type": "code",
      "source": [
        "np.split(a,[5]) #second parameter(s) is(are) index of split operation"
      ],
      "metadata": {
        "colab": {
          "base_uri": "https://localhost:8080/"
        },
        "id": "U3XIGcp60F4i",
        "outputId": "6df0af00-b37b-45fd-9512-60cc2d44d0d4"
      },
      "execution_count": 4,
      "outputs": [
        {
          "output_type": "execute_result",
          "data": {
            "text/plain": [
              "[array([17, 18,  3, 14,  2]), array([ 3, 18,  5, 17,  4, 11, 12])]"
            ]
          },
          "metadata": {},
          "execution_count": 4
        }
      ]
    },
    {
      "cell_type": "code",
      "source": [
        "np.split(a,[2, 5])"
      ],
      "metadata": {
        "colab": {
          "base_uri": "https://localhost:8080/"
        },
        "id": "A5vcvZgV0Yab",
        "outputId": "fe8a5568-d07d-4a87-cad1-0c1b36a6f419"
      },
      "execution_count": 5,
      "outputs": [
        {
          "output_type": "execute_result",
          "data": {
            "text/plain": [
              "[array([17, 18]), array([ 3, 14,  2]), array([ 3, 18,  5, 17,  4, 11, 12])]"
            ]
          },
          "metadata": {},
          "execution_count": 5
        }
      ]
    },
    {
      "cell_type": "code",
      "source": [
        "x,y,z,q = np.split(a,[2,5,8])"
      ],
      "metadata": {
        "id": "0k0PuRq60pcH"
      },
      "execution_count": 6,
      "outputs": []
    },
    {
      "cell_type": "code",
      "source": [
        "x"
      ],
      "metadata": {
        "colab": {
          "base_uri": "https://localhost:8080/"
        },
        "id": "0qWi3euh1UeQ",
        "outputId": "82349d27-5dc4-4632-aee6-29fe869b9ddd"
      },
      "execution_count": 7,
      "outputs": [
        {
          "output_type": "execute_result",
          "data": {
            "text/plain": [
              "array([17, 18])"
            ]
          },
          "metadata": {},
          "execution_count": 7
        }
      ]
    },
    {
      "cell_type": "code",
      "source": [
        "y"
      ],
      "metadata": {
        "colab": {
          "base_uri": "https://localhost:8080/"
        },
        "id": "jNJYJujo1cso",
        "outputId": "947dd8fa-d392-4210-8121-f64210e8dd25"
      },
      "execution_count": 8,
      "outputs": [
        {
          "output_type": "execute_result",
          "data": {
            "text/plain": [
              "array([ 3, 14,  2])"
            ]
          },
          "metadata": {},
          "execution_count": 8
        }
      ]
    },
    {
      "cell_type": "code",
      "source": [
        "z"
      ],
      "metadata": {
        "colab": {
          "base_uri": "https://localhost:8080/"
        },
        "id": "kLAOhSUp1c7B",
        "outputId": "d12b1dfb-ded4-487b-8550-f4adb245c41f"
      },
      "execution_count": 9,
      "outputs": [
        {
          "output_type": "execute_result",
          "data": {
            "text/plain": [
              "array([ 3, 18,  5])"
            ]
          },
          "metadata": {},
          "execution_count": 9
        }
      ]
    },
    {
      "cell_type": "code",
      "source": [
        "#dimension number is larger than 1, what should we do?\n",
        "b=np.random.randint(0,20,12).reshape(3,4)\n",
        "b"
      ],
      "metadata": {
        "colab": {
          "base_uri": "https://localhost:8080/"
        },
        "id": "9blaPk3e1dPy",
        "outputId": "d14815dd-b442-4259-95cb-1efeb4e7630d"
      },
      "execution_count": 11,
      "outputs": [
        {
          "output_type": "execute_result",
          "data": {
            "text/plain": [
              "array([[19, 17, 10,  2],\n",
              "       [17, 17, 18,  1],\n",
              "       [ 5,  2,  2, 11]])"
            ]
          },
          "metadata": {},
          "execution_count": 11
        }
      ]
    },
    {
      "cell_type": "code",
      "source": [
        "np.split(b,[1])"
      ],
      "metadata": {
        "colab": {
          "base_uri": "https://localhost:8080/"
        },
        "id": "SrY7M1ky2QjM",
        "outputId": "b6957edc-76e6-4459-e718-c1e67ae21e72"
      },
      "execution_count": 12,
      "outputs": [
        {
          "output_type": "execute_result",
          "data": {
            "text/plain": [
              "[array([[19, 17, 10,  2]]),\n",
              " array([[17, 17, 18,  1],\n",
              "        [ 5,  2,  2, 11]])]"
            ]
          },
          "metadata": {},
          "execution_count": 12
        }
      ]
    },
    {
      "cell_type": "code",
      "source": [
        "np.split(b,[1,2])"
      ],
      "metadata": {
        "colab": {
          "base_uri": "https://localhost:8080/"
        },
        "id": "MBploDOo2ybH",
        "outputId": "458703ed-a9cf-4d32-b652-2be04a2ca380"
      },
      "execution_count": 13,
      "outputs": [
        {
          "output_type": "execute_result",
          "data": {
            "text/plain": [
              "[array([[19, 17, 10,  2]]),\n",
              " array([[17, 17, 18,  1]]),\n",
              " array([[ 5,  2,  2, 11]])]"
            ]
          },
          "metadata": {},
          "execution_count": 13
        }
      ]
    },
    {
      "cell_type": "code",
      "source": [
        "np.split(b,[2])"
      ],
      "metadata": {
        "colab": {
          "base_uri": "https://localhost:8080/"
        },
        "id": "MRFmzQY03P7C",
        "outputId": "e086d393-566f-4607-931c-2039cc6d85fb"
      },
      "execution_count": 14,
      "outputs": [
        {
          "output_type": "execute_result",
          "data": {
            "text/plain": [
              "[array([[19, 17, 10,  2],\n",
              "        [17, 17, 18,  1]]),\n",
              " array([[ 5,  2,  2, 11]])]"
            ]
          },
          "metadata": {},
          "execution_count": 14
        }
      ]
    },
    {
      "cell_type": "code",
      "source": [
        "#this case, split function similarly works with vsplit function\n",
        "np.vsplit(b,[2])"
      ],
      "metadata": {
        "colab": {
          "base_uri": "https://localhost:8080/"
        },
        "id": "Cjgpyy903UhL",
        "outputId": "e48f0243-45f3-49e3-a599-2b06924243d7"
      },
      "execution_count": 15,
      "outputs": [
        {
          "output_type": "execute_result",
          "data": {
            "text/plain": [
              "[array([[19, 17, 10,  2],\n",
              "        [17, 17, 18,  1]]),\n",
              " array([[ 5,  2,  2, 11]])]"
            ]
          },
          "metadata": {},
          "execution_count": 15
        }
      ]
    },
    {
      "cell_type": "code",
      "source": [
        "#if we want split horizontally, we should use hsplit function\n",
        "np.hsplit(b,[2])"
      ],
      "metadata": {
        "colab": {
          "base_uri": "https://localhost:8080/"
        },
        "id": "GibnApEk3vK0",
        "outputId": "08e83b4b-205f-46e5-c7f6-38cac1c1bb1d"
      },
      "execution_count": 16,
      "outputs": [
        {
          "output_type": "execute_result",
          "data": {
            "text/plain": [
              "[array([[19, 17],\n",
              "        [17, 17],\n",
              "        [ 5,  2]]),\n",
              " array([[10,  2],\n",
              "        [18,  1],\n",
              "        [ 2, 11]])]"
            ]
          },
          "metadata": {},
          "execution_count": 16
        }
      ]
    },
    {
      "cell_type": "code",
      "source": [],
      "metadata": {
        "id": "I8FjV_MJ4dcO"
      },
      "execution_count": null,
      "outputs": []
    }
  ]
}
